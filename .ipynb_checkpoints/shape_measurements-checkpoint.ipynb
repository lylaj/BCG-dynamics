{
 "cells": [
  {
   "cell_type": "code",
   "execution_count": 1,
   "metadata": {},
   "outputs": [],
   "source": [
    "from kinetic_measure import *\n",
    "import plot_property_map as ppm\n",
    "import pynbody\n",
    "import numpy as np\n",
    "import scipy.optimize as so\n",
    "import scipy.stats as ss\n",
    "import os\n",
    "from matplotlib.patches import Ellipse\n"
   ]
  },
  {
   "cell_type": "code",
   "execution_count": 2,
   "metadata": {},
   "outputs": [],
   "source": [
    "from pynbody import analysis as anal"
   ]
  },
  {
   "cell_type": "code",
   "execution_count": 3,
   "metadata": {},
   "outputs": [],
   "source": [
    "savedir = '/home/seoyoung/analysis/figure/'\n",
    "\n",
    "simdir = '/project/rrg-babul-ad/rennehan/romulus_data/h1.cosmo50/'\n",
    "param_file = '/project/rrg-babul-ad/rennehan/romulus_data/h1.cosmo50/h1.cosmo50PLK.1536gst1bwK1BH.param'\n",
    "\n",
    "filelist = os.listdir(simdir)"
   ]
  },
  {
   "cell_type": "code",
   "execution_count": 4,
   "metadata": {},
   "outputs": [],
   "source": [
    "result = [i[-6:] for i in filelist if i.startswith('h1.cosmo50') and len(i)==35]\n",
    "result.sort()"
   ]
  },
  {
   "cell_type": "code",
   "execution_count": 5,
   "metadata": {},
   "outputs": [
    {
     "name": "stdout",
     "output_type": "stream",
     "text": [
      "get halos\n"
     ]
    },
    {
     "data": {
      "text/plain": [
       "<pynbody.transformation.GenericTranslation at 0x2ac36d06c7f0>"
      ]
     },
     "execution_count": 5,
     "metadata": {},
     "output_type": "execute_result"
    }
   ],
   "source": [
    "filt_size = 35\n",
    "n_dir = 10\n",
    "nbins = 15\n",
    "width = 11 #kpc/h unit\n",
    "#snap = result[::-1][0]\n",
    "snap = result[-27] #redshift 0.4\n",
    "\n",
    "\n",
    "data_file = '/project/rrg-babul-ad/rennehan/romulus_data/h1.cosmo50/h1.cosmo50PLK.1536gst1bwK1BH.'+snap\n",
    "s = pynbody.load(data_file, paramfile = param_file)\n",
    "s.physical_units()\n",
    "\n",
    "print(\"get halos\")\n",
    "h = s.halos()\n",
    "h0 = h[0]\n",
    "pynbody.analysis.halo.center(h0,mode='hyb')\n",
    "\n"
   ]
  },
  {
   "cell_type": "code",
   "execution_count": 60,
   "metadata": {},
   "outputs": [
    {
     "ename": "MemoryError",
     "evalue": "",
     "output_type": "error",
     "traceback": [
      "\u001b[0;31m---------------------------------------------------------------------------\u001b[0m",
      "\u001b[0;31mMemoryError\u001b[0m                               Traceback (most recent call last)",
      "\u001b[0;32m<ipython-input-60-612974c417c5>\u001b[0m in \u001b[0;36m<module>\u001b[0;34m()\u001b[0m\n\u001b[0;32m----> 1\u001b[0;31m \u001b[0ms_filt\u001b[0m \u001b[0;34m=\u001b[0m \u001b[0ms\u001b[0m\u001b[0;34m[\u001b[0m\u001b[0mpynbody\u001b[0m\u001b[0;34m.\u001b[0m\u001b[0mfilt\u001b[0m\u001b[0;34m.\u001b[0m\u001b[0mDisc\u001b[0m\u001b[0;34m(\u001b[0m\u001b[0mstr\u001b[0m\u001b[0;34m(\u001b[0m\u001b[0mwidth\u001b[0m\u001b[0;34m)\u001b[0m\u001b[0;34m+\u001b[0m\u001b[0;34m' kpc h^-1'\u001b[0m\u001b[0;34m,\u001b[0m \u001b[0mstr\u001b[0m\u001b[0;34m(\u001b[0m\u001b[0mfilt_size\u001b[0m\u001b[0;34m)\u001b[0m\u001b[0;34m+\u001b[0m\u001b[0;34m' kpc h^-1'\u001b[0m\u001b[0;34m)\u001b[0m\u001b[0;34m]\u001b[0m\u001b[0;34m\u001b[0m\u001b[0m\n\u001b[0m",
      "\u001b[0;32m~/anaconda3/lib/python3.7/site-packages/pynbody/snapshot/__init__.py\u001b[0m in \u001b[0;36m__getitem__\u001b[0;34m(self, i)\u001b[0m\n\u001b[1;32m    270\u001b[0m             \u001b[0;32mreturn\u001b[0m \u001b[0mself\u001b[0m\u001b[0;34m.\u001b[0m\u001b[0m_get_subsnap_from_mask_array\u001b[0m\u001b[0;34m(\u001b[0m\u001b[0mi\u001b[0m\u001b[0;34m)\u001b[0m\u001b[0;34m\u001b[0m\u001b[0m\n\u001b[1;32m    271\u001b[0m         \u001b[0;32melif\u001b[0m \u001b[0misinstance\u001b[0m\u001b[0;34m(\u001b[0m\u001b[0mi\u001b[0m\u001b[0;34m,\u001b[0m \u001b[0;34m(\u001b[0m\u001b[0mlist\u001b[0m\u001b[0;34m,\u001b[0m \u001b[0mtuple\u001b[0m\u001b[0;34m,\u001b[0m \u001b[0mnp\u001b[0m\u001b[0;34m.\u001b[0m\u001b[0mndarray\u001b[0m\u001b[0;34m,\u001b[0m \u001b[0mfilt\u001b[0m\u001b[0;34m.\u001b[0m\u001b[0mFilter\u001b[0m\u001b[0;34m)\u001b[0m\u001b[0;34m)\u001b[0m\u001b[0;34m:\u001b[0m\u001b[0;34m\u001b[0m\u001b[0m\n\u001b[0;32m--> 272\u001b[0;31m             \u001b[0;32mreturn\u001b[0m \u001b[0mIndexedSubSnap\u001b[0m\u001b[0;34m(\u001b[0m\u001b[0mself\u001b[0m\u001b[0;34m,\u001b[0m \u001b[0mi\u001b[0m\u001b[0;34m)\u001b[0m\u001b[0;34m\u001b[0m\u001b[0m\n\u001b[0m\u001b[1;32m    273\u001b[0m         \u001b[0;32melif\u001b[0m \u001b[0misinstance\u001b[0m\u001b[0;34m(\u001b[0m\u001b[0mi\u001b[0m\u001b[0;34m,\u001b[0m \u001b[0mint\u001b[0m\u001b[0;34m)\u001b[0m \u001b[0;32mor\u001b[0m \u001b[0misinstance\u001b[0m\u001b[0;34m(\u001b[0m\u001b[0mi\u001b[0m\u001b[0;34m,\u001b[0m \u001b[0mnp\u001b[0m\u001b[0;34m.\u001b[0m\u001b[0mint32\u001b[0m\u001b[0;34m)\u001b[0m \u001b[0;32mor\u001b[0m \u001b[0misinstance\u001b[0m\u001b[0;34m(\u001b[0m\u001b[0mi\u001b[0m\u001b[0;34m,\u001b[0m \u001b[0mnp\u001b[0m\u001b[0;34m.\u001b[0m\u001b[0mint64\u001b[0m\u001b[0;34m)\u001b[0m\u001b[0;34m:\u001b[0m\u001b[0;34m\u001b[0m\u001b[0m\n\u001b[1;32m    274\u001b[0m             \u001b[0;32mreturn\u001b[0m \u001b[0mIndexedSubSnap\u001b[0m\u001b[0;34m(\u001b[0m\u001b[0mself\u001b[0m\u001b[0;34m,\u001b[0m \u001b[0;34m(\u001b[0m\u001b[0mi\u001b[0m\u001b[0;34m,\u001b[0m\u001b[0;34m)\u001b[0m\u001b[0;34m)\u001b[0m\u001b[0;34m\u001b[0m\u001b[0m\n",
      "\u001b[0;32m~/anaconda3/lib/python3.7/site-packages/pynbody/snapshot/__init__.py\u001b[0m in \u001b[0;36m__init__\u001b[0;34m(self, base, index_array)\u001b[0m\n\u001b[1;32m   1849\u001b[0m         \u001b[0;32mif\u001b[0m \u001b[0misinstance\u001b[0m\u001b[0;34m(\u001b[0m\u001b[0mindex_array\u001b[0m\u001b[0;34m,\u001b[0m \u001b[0mfilt\u001b[0m\u001b[0;34m.\u001b[0m\u001b[0mFilter\u001b[0m\u001b[0;34m)\u001b[0m\u001b[0;34m:\u001b[0m\u001b[0;34m\u001b[0m\u001b[0m\n\u001b[1;32m   1850\u001b[0m             \u001b[0mself\u001b[0m\u001b[0;34m.\u001b[0m\u001b[0m_descriptor\u001b[0m \u001b[0;34m=\u001b[0m \u001b[0mindex_array\u001b[0m\u001b[0;34m.\u001b[0m\u001b[0m_descriptor\u001b[0m\u001b[0;34m\u001b[0m\u001b[0m\n\u001b[0;32m-> 1851\u001b[0;31m             \u001b[0mindex_array\u001b[0m \u001b[0;34m=\u001b[0m \u001b[0mindex_array\u001b[0m\u001b[0;34m.\u001b[0m\u001b[0mwhere\u001b[0m\u001b[0;34m(\u001b[0m\u001b[0mbase\u001b[0m\u001b[0;34m)\u001b[0m\u001b[0;34m[\u001b[0m\u001b[0;36m0\u001b[0m\u001b[0;34m]\u001b[0m\u001b[0;34m\u001b[0m\u001b[0m\n\u001b[0m\u001b[1;32m   1852\u001b[0m \u001b[0;34m\u001b[0m\u001b[0m\n\u001b[1;32m   1853\u001b[0m         \u001b[0;32melif\u001b[0m \u001b[0misinstance\u001b[0m\u001b[0;34m(\u001b[0m\u001b[0mindex_array\u001b[0m\u001b[0;34m,\u001b[0m \u001b[0mtuple\u001b[0m\u001b[0;34m)\u001b[0m\u001b[0;34m:\u001b[0m\u001b[0;34m\u001b[0m\u001b[0m\n",
      "\u001b[0;32m~/anaconda3/lib/python3.7/site-packages/pynbody/filt.py\u001b[0m in \u001b[0;36mwhere\u001b[0;34m(self, sim)\u001b[0m\n\u001b[1;32m     25\u001b[0m \u001b[0;34m\u001b[0m\u001b[0m\n\u001b[1;32m     26\u001b[0m     \u001b[0;32mdef\u001b[0m \u001b[0mwhere\u001b[0m\u001b[0;34m(\u001b[0m\u001b[0mself\u001b[0m\u001b[0;34m,\u001b[0m \u001b[0msim\u001b[0m\u001b[0;34m)\u001b[0m\u001b[0;34m:\u001b[0m\u001b[0;34m\u001b[0m\u001b[0m\n\u001b[0;32m---> 27\u001b[0;31m         \u001b[0;32mreturn\u001b[0m \u001b[0mnp\u001b[0m\u001b[0;34m.\u001b[0m\u001b[0mwhere\u001b[0m\u001b[0;34m(\u001b[0m\u001b[0mself\u001b[0m\u001b[0;34m(\u001b[0m\u001b[0msim\u001b[0m\u001b[0;34m)\u001b[0m\u001b[0;34m)\u001b[0m\u001b[0;34m\u001b[0m\u001b[0m\n\u001b[0m\u001b[1;32m     28\u001b[0m \u001b[0;34m\u001b[0m\u001b[0m\n\u001b[1;32m     29\u001b[0m     \u001b[0;32mdef\u001b[0m \u001b[0m__call__\u001b[0m\u001b[0;34m(\u001b[0m\u001b[0mself\u001b[0m\u001b[0;34m,\u001b[0m \u001b[0msim\u001b[0m\u001b[0;34m)\u001b[0m\u001b[0;34m:\u001b[0m\u001b[0;34m\u001b[0m\u001b[0m\n",
      "\u001b[0;32m~/anaconda3/lib/python3.7/site-packages/pynbody/filt.py\u001b[0m in \u001b[0;36m__call__\u001b[0;34m(self, sim)\u001b[0m\n\u001b[1;32m    246\u001b[0m             height = float(\n\u001b[1;32m    247\u001b[0m                 height.in_units(sim[\"pos\"].units, **sim[\"pos\"].conversion_context()))\n\u001b[0;32m--> 248\u001b[0;31m         \u001b[0mdistance\u001b[0m \u001b[0;34m=\u001b[0m \u001b[0;34m(\u001b[0m\u001b[0;34m(\u001b[0m\u001b[0;34m(\u001b[0m\u001b[0msim\u001b[0m\u001b[0;34m[\u001b[0m\u001b[0;34m\"pos\"\u001b[0m\u001b[0;34m]\u001b[0m \u001b[0;34m-\u001b[0m \u001b[0mself\u001b[0m\u001b[0;34m.\u001b[0m\u001b[0mcen\u001b[0m\u001b[0;34m)\u001b[0m\u001b[0;34m[\u001b[0m\u001b[0;34m:\u001b[0m\u001b[0;34m,\u001b[0m \u001b[0;34m:\u001b[0m\u001b[0;36m2\u001b[0m\u001b[0;34m]\u001b[0m\u001b[0;34m)\u001b[0m \u001b[0;34m**\u001b[0m \u001b[0;36m2\u001b[0m\u001b[0;34m)\u001b[0m\u001b[0;34m.\u001b[0m\u001b[0msum\u001b[0m\u001b[0;34m(\u001b[0m\u001b[0maxis\u001b[0m\u001b[0;34m=\u001b[0m\u001b[0;36m1\u001b[0m\u001b[0;34m)\u001b[0m\u001b[0;34m\u001b[0m\u001b[0m\n\u001b[0m\u001b[1;32m    249\u001b[0m         \u001b[0;32mreturn\u001b[0m \u001b[0;34m(\u001b[0m\u001b[0mdistance\u001b[0m \u001b[0;34m<\u001b[0m \u001b[0mradius\u001b[0m \u001b[0;34m**\u001b[0m \u001b[0;36m2\u001b[0m\u001b[0;34m)\u001b[0m \u001b[0;34m*\u001b[0m \u001b[0;34m(\u001b[0m\u001b[0mnp\u001b[0m\u001b[0;34m.\u001b[0m\u001b[0mabs\u001b[0m\u001b[0;34m(\u001b[0m\u001b[0msim\u001b[0m\u001b[0;34m[\u001b[0m\u001b[0;34m\"z\"\u001b[0m\u001b[0;34m]\u001b[0m \u001b[0;34m-\u001b[0m \u001b[0mself\u001b[0m\u001b[0;34m.\u001b[0m\u001b[0mcen\u001b[0m\u001b[0;34m[\u001b[0m\u001b[0;36m2\u001b[0m\u001b[0;34m]\u001b[0m\u001b[0;34m)\u001b[0m \u001b[0;34m<\u001b[0m \u001b[0mheight\u001b[0m\u001b[0;34m)\u001b[0m\u001b[0;34m\u001b[0m\u001b[0m\n\u001b[1;32m    250\u001b[0m \u001b[0;34m\u001b[0m\u001b[0m\n",
      "\u001b[0;32m~/anaconda3/lib/python3.7/site-packages/pynbody/array.py\u001b[0m in \u001b[0;36m__sub__\u001b[0;34m(self, x)\u001b[0m\n\u001b[1;32m    438\u001b[0m             \u001b[0;32mreturn\u001b[0m \u001b[0;34m(\u001b[0m\u001b[0;34m-\u001b[0m\u001b[0mx\u001b[0m \u001b[0;34m+\u001b[0m \u001b[0mself\u001b[0m\u001b[0;34m)\u001b[0m\u001b[0;34m.\u001b[0m\u001b[0min_units\u001b[0m\u001b[0;34m(\u001b[0m\u001b[0mself\u001b[0m\u001b[0;34m.\u001b[0m\u001b[0munits\u001b[0m\u001b[0;34m)\u001b[0m\u001b[0;34m\u001b[0m\u001b[0m\n\u001b[1;32m    439\u001b[0m         \u001b[0;32melse\u001b[0m\u001b[0;34m:\u001b[0m\u001b[0;34m\u001b[0m\u001b[0m\n\u001b[0;32m--> 440\u001b[0;31m             \u001b[0;32mreturn\u001b[0m \u001b[0mself\u001b[0m\u001b[0;34m.\u001b[0m\u001b[0m_generic_add\u001b[0m\u001b[0;34m(\u001b[0m\u001b[0mx\u001b[0m\u001b[0;34m,\u001b[0m \u001b[0mnp\u001b[0m\u001b[0;34m.\u001b[0m\u001b[0msubtract\u001b[0m\u001b[0;34m)\u001b[0m\u001b[0;34m\u001b[0m\u001b[0m\n\u001b[0m\u001b[1;32m    441\u001b[0m \u001b[0;34m\u001b[0m\u001b[0m\n\u001b[1;32m    442\u001b[0m     \u001b[0;32mdef\u001b[0m \u001b[0m__iadd__\u001b[0m\u001b[0;34m(\u001b[0m\u001b[0mself\u001b[0m\u001b[0;34m,\u001b[0m \u001b[0mx\u001b[0m\u001b[0;34m)\u001b[0m\u001b[0;34m:\u001b[0m\u001b[0;34m\u001b[0m\u001b[0m\n",
      "\u001b[0;32m~/anaconda3/lib/python3.7/site-packages/pynbody/array.py\u001b[0m in \u001b[0;36m_generic_add\u001b[0;34m(self, x, add_op)\u001b[0m\n\u001b[1;32m    425\u001b[0m             \u001b[0;32mreturn\u001b[0m \u001b[0mr\u001b[0m\u001b[0;34m\u001b[0m\u001b[0m\n\u001b[1;32m    426\u001b[0m         \u001b[0;32melse\u001b[0m\u001b[0;34m:\u001b[0m\u001b[0;34m\u001b[0m\u001b[0m\n\u001b[0;32m--> 427\u001b[0;31m             \u001b[0mr\u001b[0m \u001b[0;34m=\u001b[0m \u001b[0madd_op\u001b[0m\u001b[0;34m(\u001b[0m\u001b[0mself\u001b[0m\u001b[0;34m,\u001b[0m \u001b[0mx\u001b[0m\u001b[0;34m)\u001b[0m\u001b[0;34m\u001b[0m\u001b[0m\n\u001b[0m\u001b[1;32m    428\u001b[0m             \u001b[0;32mreturn\u001b[0m \u001b[0mr\u001b[0m\u001b[0;34m\u001b[0m\u001b[0m\n\u001b[1;32m    429\u001b[0m \u001b[0;34m\u001b[0m\u001b[0m\n",
      "\u001b[0;31mMemoryError\u001b[0m: "
     ]
    }
   ],
   "source": [
    "s_filt = s[pynbody.filt.Disc(str(width)+' kpc h^-1', str(filt_size)+' kpc h^-1')]"
   ]
  },
  {
   "cell_type": "code",
   "execution_count": 7,
   "metadata": {},
   "outputs": [],
   "source": [
    "shape = pynbody.analysis.halo.galaxy_shape(s_filt, rout = 15)"
   ]
  },
  {
   "cell_type": "code",
   "execution_count": 8,
   "metadata": {},
   "outputs": [
    {
     "data": {
      "text/plain": [
       "14.82335676708197"
      ]
     },
     "execution_count": 8,
     "metadata": {},
     "output_type": "execute_result"
    }
   ],
   "source": [
    "shape[1]"
   ]
  },
  {
   "cell_type": "code",
   "execution_count": 11,
   "metadata": {},
   "outputs": [
    {
     "name": "stdout",
     "output_type": "stream",
     "text": [
      "14.82335676708197\n",
      "10.552404916355133\n",
      "3.106253799534772\n"
     ]
    },
    {
     "data": {
      "text/plain": [
       "(-20.0, 40.0, -40.0, 20.0)"
      ]
     },
     "execution_count": 11,
     "metadata": {},
     "output_type": "execute_result"
    },
    {
     "data": {
      "image/png": "[encoded data removed]",
      "text/plain": [
       "<Figure size 432x432 with 1 Axes>"
      ]
     },
     "metadata": {
      "needs_background": "light"
     },
     "output_type": "display_data"
    }
   ],
   "source": [
    "print(shape[1]) #b/a\n",
    "print(shape[2]) #c/a\n",
    "print(shape[3]) #c/b\n",
    "\n",
    "a = shape[1]\n",
    "b = shape[2]\n",
    "c = shape[3]\n",
    "\n",
    "plt.figure(figsize = (6,6))\n",
    "ell = Ellipse((0,0), 2 * a, 2 * b, alpha = 0.5)\n",
    "plt.gca().add_artist(ell)\n",
    "\n",
    "ell = Ellipse((30,0), 2 * c, 2 * b, alpha = 0.5)\n",
    "plt.gca().add_artist(ell)\n",
    "\n",
    "plt.xlim(-20,40)\n",
    "plt.ylim(-40,20)\n",
    "\n",
    "plt.text(0,-28,\"a = \"+str(round(a,2))+\" kpc\",fontsize = 15, horizontalalignment = 'left')\n",
    "plt.text(0,-32,\"b = \"+str(round(b,2))+\" kpc\",fontsize = 15, horizontalalignment = 'left')\n",
    "plt.text(0,-36,\"c = \"+str(round(c,2))+\" kpc\",fontsize = 15, horizontalalignment = 'left')\n",
    "\n",
    "plt.text(0,-15,\"$\\\\epsilon$ = \"+str(round(np.sqrt(1-(b/a)**2),2)),fontsize = 15, horizontalalignment = 'center' )\n",
    "plt.text(0,-19,\"b / a = \"+str(round(b/a,2)),fontsize = 15, horizontalalignment = 'center' )\n",
    "\n",
    "plt.text(30,-15,\"$\\\\epsilon$ = \"+str(round(np.sqrt(1-(c/b)**2),2)),fontsize = 15, horizontalalignment = 'center' )\n",
    "plt.text(30,-19,\"c / b = \"+str(round(c/b,2)),fontsize = 15, horizontalalignment = 'center' )\n",
    "\n",
    "plt.axis('off')\n"
   ]
  },
  {
   "cell_type": "code",
   "execution_count": null,
   "metadata": {},
   "outputs": [],
   "source": [
    "def fitEllipse(x,y):\n",
    "    x = x[:,np.newaxis]\n",
    "    y = y[:,np.newaxis]\n",
    "    D =  np.hstack((x*x, x*y, y*y, x, y, np.ones_like(x)))\n",
    "    S = np.dot(D.T,D)\n",
    "    C = np.zeros([6,6])\n",
    "    C[0,2] = C[2,0] = 2; C[1,1] = -1\n",
    "    E, V =  eig(np.dot(inv(S), C))\n",
    "    n = np.argmax(np.abs(E))\n",
    "    a = V[:,n]\n",
    "    return a\n",
    "\n",
    "def ellipse_center(a):\n",
    "    b,c,d,f,g,a = a[1]/2, a[2], a[3]/2, a[4]/2, a[5], a[0]\n",
    "    num = b*b-a*c\n",
    "    x0=(c*d-b*f)/num\n",
    "    y0=(a*f-b*d)/num\n",
    "    return np.array([x0,y0])\n",
    "\n",
    "\n",
    "def ellipse_angle_of_rotation( a ):\n",
    "    b,c,d,f,g,a = a[1]/2, a[2], a[3]/2, a[4]/2, a[5], a[0]\n",
    "    return 0.5*np.arctan(2*b/(a-c))\n",
    "\n",
    "\n",
    "def ellipse_axis_length( a ):\n",
    "    b,c,d,f,g,a = a[1]/2, a[2], a[3]/2, a[4]/2, a[5], a[0]\n",
    "    up = 2*(a*f*f+c*d*d+g*b*b-2*b*d*f-a*c*g)\n",
    "    down1=(b*b-a*c)*( (c-a)*np.sqrt(1+4*b*b/((a-c)*(a-c)))-(c+a))\n",
    "    down2=(b*b-a*c)*( (a-c)*np.sqrt(1+4*b*b/((a-c)*(a-c)))-(c+a))\n",
    "    res1=np.sqrt(up/down1)\n",
    "    res2=np.sqrt(up/down2)\n",
    "    return np.array([res1, res2])\n",
    "\n",
    "def ellipse_angle_of_rotation2( a ):\n",
    "    b,c,d,f,g,a = a[1]/2, a[2], a[3]/2, a[4]/2, a[5], a[0]\n",
    "    if b == 0:\n",
    "        if a > c:\n",
    "            return 0\n",
    "        else:\n",
    "            return np.pi/2\n",
    "    else: \n",
    "        if a > c:\n",
    "            return np.arctan(2*b/(a-c))/2\n",
    "        else:\n",
    "            return np.pi/2 + np.arctan(2*b/(a-c))/2"
   ]
  },
  {
   "cell_type": "code",
   "execution_count": null,
   "metadata": {},
   "outputs": [],
   "source": [
    "\n",
    "def get_ellipticity(h0):\n",
    "\n",
    "    resolution = 100\n",
    "\n",
    "    image = pynbody.plot.sph.image(h0.star, qty='r_lum_den', units = 'pc^-2', width=str(width*3)+' kpc h^-1', log=False, clear=False, noplot=False, resolution = resolution)\n",
    "\n",
    "    cs = plt.contour(pynbody.plot.stars.convert_to_mag_arcsec2(image), levels = [21])\n",
    "    p = cs.allsegs\n",
    "\n",
    "    cs_len = 0\n",
    "    for i in range(0,len(p[0])):\n",
    "        if cs_len<len(p[0][i]):\n",
    "            cs_len = len(p[0][i])\n",
    "            cs_i = i\n",
    "\n",
    "    a = fitEllipse(p[0][cs_i][:,0],p[0][cs_i][:,1])\n",
    "    center = ellipse_center(a)\n",
    "    #phi = ellipse_angle_of_rotation(a)\n",
    "    phi = ellipse_angle_of_rotation2(a)\n",
    "    axes = ellipse_axis_length(a)\n",
    "\n",
    "    # get the individual axes\n",
    "    a, b = axes\n",
    "\n",
    "    if a>b:\n",
    "        ellip = (1-(b/a)**2)**0.5\n",
    "    else:\n",
    "        ellip = (1-(a/b)**2)**0.5\n",
    "\n",
    "    return(ellip)"
   ]
  },
  {
   "cell_type": "code",
   "execution_count": 68,
   "metadata": {},
   "outputs": [],
   "source": [
    "p = cs.allsegs\n",
    "\n",
    "cs_len = 0\n",
    "for i in range(0,len(p[0])):\n",
    "    if cs_len<len(p[0][i]):\n",
    "        cs_len = len(p[0][i])\n",
    "        cs_i = i\n",
    "\n",
    "a = fitEllipse(p[0][cs_i][:,0],p[0][cs_i][:,1])\n",
    "center = ellipse_center(a)\n",
    "#phi = ellipse_angle_of_rotation(a)\n",
    "phi = ellipse_angle_of_rotation2(a)\n",
    "axes = ellipse_axis_length(a)\n",
    "\n",
    "# get the individual axes\n",
    "a, b = axes"
   ]
  },
  {
   "cell_type": "code",
   "execution_count": 84,
   "metadata": {
    "scrolled": true
   },
   "outputs": [
    {
     "data": {
      "text/plain": [
       "Text(4,10,'$\\\\epsilon$ = 0.86')"
      ]
     },
     "execution_count": 84,
     "metadata": {},
     "output_type": "execute_result"
    },
    {
     "data": {
      "image/png": "[encoded data removed]",
      "text/plain": [
       "<Figure size 432x288 with 1 Axes>"
      ]
     },
     "metadata": {
      "needs_background": "light"
     },
     "output_type": "display_data"
    }
   ],
   "source": [
    "image = pynbody.plot.sph.image(h0.star, qty='r_lum_den', units = 'pc^-2', width='30 kpc', log=False, clear=False, noplot=True, resolution = 100)\n",
    "rgb = pynbody.plot.stars.render(h0, width = '30 kpc', resolution = 100, dynamic_range = 4,plot = True,ret_im = True)\n",
    "\n",
    "cs = plt.contour(pynbody.plot.stars.convert_to_mag_arcsec2(image), levels = [21], extent = [-15,15,-15,15], colors = 'b')\n",
    "\n",
    "ell = Ellipse(center, 2 * a, 2 * b,  phi * 180 / np.pi + 90 , facecolor = 'none',edgecolor = 'r', linewidth = 2) \n",
    "\n",
    "plt.gca().add_artist(ell)\n",
    "\n",
    "#plt.text(-13,-12,\"$\\mu_{r}$ = 21 [arcsec$^{-2}$]\", color = 'b', backgroundcolor = 'white', fontweight = 'semibold')\n",
    "plt.text(4,10,\"$\\epsilon$ = \"+str(round(np.sqrt(1-(a/b)**2),2)), color = 'r', backgroundcolor = 'white', fontweight = 'semibold')"
   ]
  },
  {
   "cell_type": "code",
   "execution_count": 23,
   "metadata": {},
   "outputs": [
    {
     "data": {
      "text/plain": [
       "0.40049080339513754"
      ]
     },
     "execution_count": 23,
     "metadata": {},
     "output_type": "execute_result"
    }
   ],
   "source": [
    "h0.properties['z']"
   ]
  },
  {
   "cell_type": "code",
   "execution_count": 6,
   "metadata": {},
   "outputs": [],
   "source": [
    "savedir = '/home/seoyoung/analysis/long_slit/'\n",
    "slit_data_04 = np.loadtxt(savedir+'long_slit_z_0.4.txt')\n",
    "\n",
    "\n",
    "rot_angles_04 = slit_data_04[:,:3]\n",
    "r_list_04 = slit_data_04[:,3:18]\n",
    "v_list_04 = slit_data_04[:,18:33]\n",
    "sig_list_04 = slit_data_04[:,33:48]\n",
    "v_max_04 = slit_data_04[:,48]\n",
    "sig_0_04 = slit_data_04[:,49]\n",
    "eta_04 = slit_data_04[:,50]\n",
    "Mk_04 = slit_data_04[:,51]\n",
    "ellip_04 = slit_data_04[:,52]"
   ]
  },
  {
   "cell_type": "code",
   "execution_count": 33,
   "metadata": {},
   "outputs": [
    {
     "data": {
      "text/plain": [
       "0.048620490469943024"
      ]
     },
     "execution_count": 33,
     "metadata": {},
     "output_type": "execute_result"
    }
   ],
   "source": [
    "eta_04[9]"
   ]
  },
  {
   "cell_type": "code",
   "execution_count": 7,
   "metadata": {},
   "outputs": [],
   "source": [
    "for i in range(0,np.where(eta_04>0)[0][0]+1):\n",
    "    s.rotate_x(rot_angles_04[i,0])\n",
    "    s.rotate_y(rot_angles_04[i,1])\n",
    "    s.rotate_z(rot_angles_04[i,2])"
   ]
  },
  {
   "cell_type": "code",
   "execution_count": 8,
   "metadata": {},
   "outputs": [],
   "source": [
    "s_filt = s[pynbody.filt.Disc('11 kpc h^-1', str(filt_size)+' kpc h^-1')]\n"
   ]
  },
  {
   "cell_type": "code",
   "execution_count": 9,
   "metadata": {},
   "outputs": [],
   "source": [
    "spin_axis = get_spin_axis(s_filt.star[s_filt.star['r']<15])"
   ]
  },
  {
   "cell_type": "code",
   "execution_count": 10,
   "metadata": {
    "scrolled": true
   },
   "outputs": [
    {
     "name": "stdout",
     "output_type": "stream",
     "text": [
      "caluculate binned statistic\n"
     ]
    },
    {
     "name": "stderr",
     "output_type": "stream",
     "text": [
      "/home/seoyoung/anaconda3/lib/python3.7/site-packages/pynbody/array.py:865: FutureWarning: Using a non-tuple sequence for multidimensional indexing is deprecated; use `arr[tuple(seq)]` instead of `arr[seq]`. In the future this will be interpreted as an array index, `arr[np.array(seq)]`, which will result either in an error or a different result.\n",
      "  return self.base[self._reexpress_index(item)]\n",
      "/home/seoyoung/anaconda3/lib/python3.7/site-packages/scipy/stats/_binned_statistic.py:607: FutureWarning: Using a non-tuple sequence for multidimensional indexing is deprecated; use `arr[tuple(seq)]` instead of `arr[seq]`. In the future this will be interpreted as an array index, `arr[np.array(seq)]`, which will result either in an error or a different result.\n",
      "  result = result[core]\n",
      "/home/seoyoung/anaconda3/lib/python3.7/site-packages/scipy/stats/_binned_statistic.py:607: FutureWarning: Using a non-tuple sequence for multidimensional indexing is deprecated; use `arr[tuple(seq)]` instead of `arr[seq]`. In the future this will be interpreted as an array index, `arr[np.array(seq)]`, which will result either in an error or a different result.\n",
      "  result = result[core]\n",
      "/home/seoyoung/anaconda3/lib/python3.7/site-packages/pynbody/array.py:865: FutureWarning: Using a non-tuple sequence for multidimensional indexing is deprecated; use `arr[tuple(seq)]` instead of `arr[seq]`. In the future this will be interpreted as an array index, `arr[np.array(seq)]`, which will result either in an error or a different result.\n",
      "  return self.base[self._reexpress_index(item)]\n",
      "/home/seoyoung/anaconda3/lib/python3.7/site-packages/scipy/stats/_binned_statistic.py:607: FutureWarning: Using a non-tuple sequence for multidimensional indexing is deprecated; use `arr[tuple(seq)]` instead of `arr[seq]`. In the future this will be interpreted as an array index, `arr[np.array(seq)]`, which will result either in an error or a different result.\n",
      "  result = result[core]\n",
      "/home/seoyoung/anaconda3/lib/python3.7/site-packages/pynbody/array.py:865: FutureWarning: Using a non-tuple sequence for multidimensional indexing is deprecated; use `arr[tuple(seq)]` instead of `arr[seq]`. In the future this will be interpreted as an array index, `arr[np.array(seq)]`, which will result either in an error or a different result.\n",
      "  return self.base[self._reexpress_index(item)]\n",
      "/home/seoyoung/anaconda3/lib/python3.7/site-packages/scipy/stats/_binned_statistic.py:607: FutureWarning: Using a non-tuple sequence for multidimensional indexing is deprecated; use `arr[tuple(seq)]` instead of `arr[seq]`. In the future this will be interpreted as an array index, `arr[np.array(seq)]`, which will result either in an error or a different result.\n",
      "  result = result[core]\n",
      "/home/seoyoung/anaconda3/lib/python3.7/site-packages/pynbody/array.py:865: FutureWarning: Using a non-tuple sequence for multidimensional indexing is deprecated; use `arr[tuple(seq)]` instead of `arr[seq]`. In the future this will be interpreted as an array index, `arr[np.array(seq)]`, which will result either in an error or a different result.\n",
      "  return self.base[self._reexpress_index(item)]\n",
      "/home/seoyoung/anaconda3/lib/python3.7/site-packages/scipy/stats/_binned_statistic.py:607: FutureWarning: Using a non-tuple sequence for multidimensional indexing is deprecated; use `arr[tuple(seq)]` instead of `arr[seq]`. In the future this will be interpreted as an array index, `arr[np.array(seq)]`, which will result either in an error or a different result.\n",
      "  result = result[core]\n",
      "/home/seoyoung/anaconda3/lib/python3.7/site-packages/pynbody/array.py:865: FutureWarning: Using a non-tuple sequence for multidimensional indexing is deprecated; use `arr[tuple(seq)]` instead of `arr[seq]`. In the future this will be interpreted as an array index, `arr[np.array(seq)]`, which will result either in an error or a different result.\n",
      "  return self.base[self._reexpress_index(item)]\n",
      "/home/seoyoung/anaconda3/lib/python3.7/site-packages/scipy/stats/_binned_statistic.py:607: FutureWarning: Using a non-tuple sequence for multidimensional indexing is deprecated; use `arr[tuple(seq)]` instead of `arr[seq]`. In the future this will be interpreted as an array index, `arr[np.array(seq)]`, which will result either in an error or a different result.\n",
      "  result = result[core]\n"
     ]
    }
   ],
   "source": [
    "v_spax, sig_spax = get_IFS(s_filt.star,half_size = 11/s_filt.properties['h'], nbin = 30, add_info = \"\", save =False,re_cal = True)\n"
   ]
  },
  {
   "cell_type": "code",
   "execution_count": 11,
   "metadata": {},
   "outputs": [
    {
     "data": {
      "text/plain": [
       "[<matplotlib.lines.Line2D at 0x2ac405b1d780>]"
      ]
     },
     "execution_count": 11,
     "metadata": {},
     "output_type": "execute_result"
    },
    {
     "data": {
      "image/png": "[encoded data removed]",
      "text/plain": [
       "<Figure size 432x288 with 2 Axes>"
      ]
     },
     "metadata": {
      "needs_background": "light"
     },
     "output_type": "display_data"
    }
   ],
   "source": [
    "plt.imshow(v_spax.T[::-1],cmap = 'jet', vmax = 600,vmin = -600, origin = 'upper', extent = [-11/s_filt.properties['h'],11/s_filt.properties['h'],-11/s_filt.properties['h'],11/s_filt.properties['h']])\n",
    "plt.colorbar()\n",
    "\n",
    "plt.plot([0,spin_axis[0]*10],[0,spin_axis[1]*10],linewidth = 5, color = 'k')\n",
    "plt.plot([-spin_axis[0]*10,0],[-spin_axis[1]*10,0],linewidth = 5, color = 'k')\n"
   ]
  },
  {
   "cell_type": "code",
   "execution_count": 15,
   "metadata": {},
   "outputs": [
    {
     "data": {
      "text/plain": [
       "[<matplotlib.lines.Line2D at 0x2ac405d12898>]"
      ]
     },
     "execution_count": 15,
     "metadata": {},
     "output_type": "execute_result"
    },
    {
     "data": {
      "image/png": "[encoded data removed]",
      "text/plain": [
       "<Figure size 432x288 with 2 Axes>"
      ]
     },
     "metadata": {
      "needs_background": "light"
     },
     "output_type": "display_data"
    }
   ],
   "source": [
    "plt.imshow(sig_spax.T[::-1],cmap = 'jet', vmax = 400,vmin = 200,origin = 'upper', extent = [-11/s_filt.properties['h'],11/s_filt.properties['h'],-11/s_filt.properties['h'],11/s_filt.properties['h']])\n",
    "plt.colorbar()\n",
    "\n",
    "\n",
    "plt.plot([0,spin_axis[1]*15],[0,-spin_axis[0]*15],linewidth = 5, color = 'k')\n",
    "plt.plot([-spin_axis[1]*15,0],[spin_axis[0]*15,0],linewidth = 5, color = 'k')"
   ]
  },
  {
   "cell_type": "code",
   "execution_count": 13,
   "metadata": {},
   "outputs": [
    {
     "name": "stderr",
     "output_type": "stream",
     "text": [
      "/home/seoyoung/anaconda3/lib/python3.7/site-packages/pynbody/array.py:865: FutureWarning: Using a non-tuple sequence for multidimensional indexing is deprecated; use `arr[tuple(seq)]` instead of `arr[seq]`. In the future this will be interpreted as an array index, `arr[np.array(seq)]`, which will result either in an error or a different result.\n",
      "  return self.base[self._reexpress_index(item)]\n",
      "/home/seoyoung/anaconda3/lib/python3.7/site-packages/scipy/stats/_binned_statistic.py:607: FutureWarning: Using a non-tuple sequence for multidimensional indexing is deprecated; use `arr[tuple(seq)]` instead of `arr[seq]`. In the future this will be interpreted as an array index, `arr[np.array(seq)]`, which will result either in an error or a different result.\n",
      "  result = result[core]\n",
      "/home/seoyoung/anaconda3/lib/python3.7/site-packages/pynbody/array.py:865: FutureWarning: Using a non-tuple sequence for multidimensional indexing is deprecated; use `arr[tuple(seq)]` instead of `arr[seq]`. In the future this will be interpreted as an array index, `arr[np.array(seq)]`, which will result either in an error or a different result.\n",
      "  return self.base[self._reexpress_index(item)]\n",
      "/home/seoyoung/anaconda3/lib/python3.7/site-packages/scipy/stats/_binned_statistic.py:607: FutureWarning: Using a non-tuple sequence for multidimensional indexing is deprecated; use `arr[tuple(seq)]` instead of `arr[seq]`. In the future this will be interpreted as an array index, `arr[np.array(seq)]`, which will result either in an error or a different result.\n",
      "  result = result[core]\n"
     ]
    }
   ],
   "source": [
    "v_slit, sig_slit, r_slit = get_slit(s_filt.star,15,nbins, align = 'spin')    \n"
   ]
  },
  {
   "cell_type": "code",
   "execution_count": null,
   "metadata": {},
   "outputs": [],
   "source": []
  },
  {
   "cell_type": "code",
   "execution_count": 35,
   "metadata": {},
   "outputs": [
    {
     "data": {
      "text/plain": [
       "<matplotlib.collections.PathCollection at 0x2ac405dbb8d0>"
      ]
     },
     "execution_count": 35,
     "metadata": {},
     "output_type": "execute_result"
    },
    {
     "data": {
      "image/png": "[encoded data removed]",
      "text/plain": [
       "<Figure size 432x288 with 1 Axes>"
      ]
     },
     "metadata": {
      "needs_background": "light"
     },
     "output_type": "display_data"
    }
   ],
   "source": [
    "plt.scatter(r_slit,sig_slit)\n",
    "plt.scatter(r_list_04[8,:],sig_list_04[8,:])"
   ]
  },
  {
   "cell_type": "code",
   "execution_count": null,
   "metadata": {},
   "outputs": [],
   "source": []
  }
 ],
 "metadata": {
  "kernelspec": {
   "display_name": "Python 3",
   "language": "python",
   "name": "python3"
  },
  "language_info": {
   "codemirror_mode": {
    "name": "ipython",
    "version": 3
   },
   "file_extension": ".py",
   "mimetype": "text/x-python",
   "name": "python",
   "nbconvert_exporter": "python",
   "pygments_lexer": "ipython3",
   "version": "3.7.0"
  }
 },
 "nbformat": 4,
 "nbformat_minor": 2
}
