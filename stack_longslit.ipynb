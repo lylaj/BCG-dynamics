{
 "cells": [
  {
   "cell_type": "code",
   "execution_count": 2,
   "metadata": {},
   "outputs": [],
   "source": [
    "import numpy as np\n",
    "import os\n",
    "import re\n",
    "import pynbody"
   ]
  },
  {
   "cell_type": "code",
   "execution_count": 3,
   "metadata": {},
   "outputs": [],
   "source": [
    "savedir = '/home/seoyoung/analysis/long_slit/'\n",
    "\n",
    "simdir = '/project/rrg-babul-ad/rennehan/romulus_data/h1.cosmo50/'\n",
    "param_file = '/project/rrg-babul-ad/rennehan/romulus_data/h1.cosmo50/h1.cosmo50PLK.1536gst1bwK1BH.param'\n",
    "\n",
    "filelist = os.listdir(simdir)"
   ]
  },
  {
   "cell_type": "code",
   "execution_count": 4,
   "metadata": {},
   "outputs": [],
   "source": [
    "result = [i[-6:] for i in filelist if i.startswith('h1.cosmo50') and len(i)==35]\n",
    "result.sort()"
   ]
  },
  {
   "cell_type": "code",
   "execution_count": 5,
   "metadata": {},
   "outputs": [],
   "source": [
    "filt_size = 35\n",
    "n_dir = 10\n",
    "nbins = 15\n",
    "\n",
    "zred = []\n",
    "for i in range(0,28):\n",
    "    #snap = result[::-1][0]\n",
    "    snap = result[::-1][i] #redshift 0.25\n",
    "\n",
    "    data_file = '/project/rrg-babul-ad/rennehan/romulus_data/h1.cosmo50/h1.cosmo50PLK.1536gst1bwK1BH.'+snap\n",
    "    s = pynbody.load(data_file, paramfile = param_file)\n",
    "    s.physical_units()\n",
    "    \n",
    "    zred.append(round(s.properties['z'],3))"
   ]
  },
  {
   "cell_type": "code",
   "execution_count": 19,
   "metadata": {},
   "outputs": [],
   "source": [
    "datadir = '/home/seoyoung/analysis/long_slit/'\n",
    "data_list = os.listdir(datadir)\n",
    "\n",
    "result = [np.float(re.findall(\"\\d+\\.\\d+\", i )[0]) for i in data_list if i.startswith('long_slit_z_') and i.endswith('majax.txt')]\n",
    "result.sort()"
   ]
  },
  {
   "cell_type": "code",
   "execution_count": 20,
   "metadata": {
    "scrolled": true
   },
   "outputs": [
    {
     "name": "stdout",
     "output_type": "stream",
     "text": [
      "0.0\n",
      "0.015\n",
      "0.038\n",
      "0.039\n",
      "0.05\n",
      "0.062\n",
      "0.079\n",
      "0.1\n",
      "0.113\n",
      "0.121\n"
     ]
    },
    {
     "name": "stderr",
     "output_type": "stream",
     "text": [
      "/home/seoyoung/anaconda3/lib/python3.7/site-packages/ipykernel_launcher.py:8: DeprecationWarning: elementwise == comparison failed; this will raise an error in the future.\n",
      "  \n",
      "/home/seoyoung/anaconda3/lib/python3.7/site-packages/ipykernel_launcher.py:6: UserWarning: loadtxt: Empty input file: \"/home/seoyoung/analysis/long_slit/long_slit_z_0.079_majax.txt\"\n",
      "  \n"
     ]
    },
    {
     "name": "stdout",
     "output_type": "stream",
     "text": [
      "0.125\n",
      "0.14\n",
      "0.164\n",
      "0.168\n",
      "0.197\n",
      "0.227\n",
      "0.25\n",
      "0.256\n",
      "0.259\n",
      "0.292\n",
      "0.305\n",
      "0.326\n",
      "0.356\n",
      "0.363\n",
      "0.4\n"
     ]
    }
   ],
   "source": [
    "stacked_data = []\n",
    "\n",
    "for z in result:\n",
    "    try:\n",
    "        print(z)\n",
    "        slit_data = np.loadtxt(savedir+'long_slit_z_'+str(z)+'_majax.txt')\n",
    "        z_column = np.ones((3,1))*z\n",
    "        if stacked_data == []:\n",
    "            stacked_data = np.hstack((z_column,slit_data[:3]))\n",
    "        else:\n",
    "            stacked_data = np.vstack((stacked_data,np.hstack((z_column,slit_data[:3]))))\n",
    "    except: pass"
   ]
  },
  {
   "cell_type": "code",
   "execution_count": 21,
   "metadata": {},
   "outputs": [],
   "source": [
    "np.savetxt(savedir+'romulusC_stacked.txt',stacked_data)"
   ]
  },
  {
   "cell_type": "code",
   "execution_count": null,
   "metadata": {},
   "outputs": [],
   "source": []
  }
 ],
 "metadata": {
  "kernelspec": {
   "display_name": "Python 3",
   "language": "python",
   "name": "python3"
  },
  "language_info": {
   "codemirror_mode": {
    "name": "ipython",
    "version": 3
   },
   "file_extension": ".py",
   "mimetype": "text/x-python",
   "name": "python",
   "nbconvert_exporter": "python",
   "pygments_lexer": "ipython3",
   "version": "3.7.0"
  }
 },
 "nbformat": 4,
 "nbformat_minor": 2
}
