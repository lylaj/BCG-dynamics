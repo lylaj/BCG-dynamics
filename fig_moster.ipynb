{
 "cells": [
  {
   "cell_type": "code",
   "execution_count": 1,
   "metadata": {},
   "outputs": [],
   "source": [
    "from kinetic_measure import *\n",
    "import plot_property_map as ppm\n",
    "import pynbody\n",
    "import numpy as np\n",
    "import scipy.optimize as so\n",
    "import scipy.stats as ss\n",
    "import os\n"
   ]
  },
  {
   "cell_type": "code",
   "execution_count": 2,
   "metadata": {},
   "outputs": [],
   "source": [
    "import kinetic_measure as km"
   ]
  },
  {
   "cell_type": "code",
   "execution_count": 3,
   "metadata": {},
   "outputs": [
    {
     "data": {
      "text/plain": [
       "<module 'kinetic_measure' from '/home/seoyoung/scripts/kinetic_measure.py'>"
      ]
     },
     "execution_count": 3,
     "metadata": {},
     "output_type": "execute_result"
    }
   ],
   "source": [
    "import imp\n",
    "imp.reload(km)"
   ]
  },
  {
   "cell_type": "code",
   "execution_count": 4,
   "metadata": {},
   "outputs": [],
   "source": [
    "savedir = '/home/seoyoung/analysis/long_slit/'\n",
    "\n",
    "simdir = '/scratch/trq/cosmo25/'\n",
    "param_file = '/scratch/trq/cosmo25/cosmo25p.768sg1bwK1BHe75_v4.param'\n",
    "filelist = os.listdir(simdir)"
   ]
  },
  {
   "cell_type": "code",
   "execution_count": 5,
   "metadata": {},
   "outputs": [],
   "source": [
    "result = [i[-6:] for i in filelist if i.startswith('cosmo25p.') and len(i)==31]\n",
    "result.sort()\n",
    "\n"
   ]
  },
  {
   "cell_type": "code",
   "execution_count": 6,
   "metadata": {},
   "outputs": [
    {
     "data": {
      "text/plain": [
       "<module 'kinetic_measure' from '/home/seoyoung/scripts/kinetic_measure.py'>"
      ]
     },
     "execution_count": 6,
     "metadata": {},
     "output_type": "execute_result"
    }
   ],
   "source": [
    "imp.reload(km)"
   ]
  },
  {
   "cell_type": "code",
   "execution_count": 49,
   "metadata": {},
   "outputs": [],
   "source": [
    "filt_size = 35\n",
    "n_dir = 10\n",
    "nbins = 15\n",
    "#snap = result[::-1][0]\n",
    "snap = result[::-1][15] #redshift 0.25\n",
    "\n",
    "\n",
    "data_file = simdir+'cosmo25p.768sg1bwK1BHe75.'+snap\n",
    "s = pynbody.load(data_file, paramfile = param_file)\n",
    "s.physical_units()\n"
   ]
  },
  {
   "cell_type": "code",
   "execution_count": 51,
   "metadata": {},
   "outputs": [],
   "source": [
    "filt_size = 35\n",
    "n_dir = 10\n",
    "nbins = 15\n",
    "snap = result[::-1][0]\n",
    "#snap = result[::-1][15] #redshift 0.25\n",
    "\n",
    "\n",
    "data_file = simdir+'cosmo25p.768sg1bwK1BHe75.'+snap\n",
    "s = pynbody.load(data_file, paramfile = param_file)\n",
    "s.physical_units()\n"
   ]
  },
  {
   "cell_type": "code",
   "execution_count": 52,
   "metadata": {},
   "outputs": [
    {
     "data": {
      "text/plain": [
       "-7.465139617579553e-12"
      ]
     },
     "execution_count": 52,
     "metadata": {},
     "output_type": "execute_result"
    }
   ],
   "source": [
    "s.properties['z']"
   ]
  },
  {
   "cell_type": "code",
   "execution_count": 53,
   "metadata": {},
   "outputs": [
    {
     "name": "stdout",
     "output_type": "stream",
     "text": [
      "get halos\n"
     ]
    }
   ],
   "source": [
    "\n",
    "print(\"get halos\")\n",
    "h = s.halos()\n"
   ]
  },
  {
   "cell_type": "code",
   "execution_count": 54,
   "metadata": {},
   "outputs": [
    {
     "data": {
      "text/plain": [
       "103222"
      ]
     },
     "execution_count": 54,
     "metadata": {},
     "output_type": "execute_result"
    }
   ],
   "source": [
    "len(h)"
   ]
  },
  {
   "cell_type": "code",
   "execution_count": 59,
   "metadata": {},
   "outputs": [
    {
     "data": {
      "text/plain": [
       "10.765602995926992"
      ]
     },
     "execution_count": 59,
     "metadata": {},
     "output_type": "execute_result"
    }
   ],
   "source": [
    "np.log10(h0.properties['M_star'])"
   ]
  },
  {
   "cell_type": "code",
   "execution_count": 58,
   "metadata": {},
   "outputs": [
    {
     "data": {
      "text/plain": [
       "SimArray(10.934613, dtype=float32, 'Msol')"
      ]
     },
     "execution_count": 58,
     "metadata": {},
     "output_type": "execute_result"
    }
   ],
   "source": [
    "np.log10(np.sum(h0.star['mass']))"
   ]
  },
  {
   "cell_type": "code",
   "execution_count": 60,
   "metadata": {
    "scrolled": true
   },
   "outputs": [
    {
     "name": "stdout",
     "output_type": "stream",
     "text": [
      "1 12.2307\n",
      "1241 12.376305\n",
      "13455 12.352613\n",
      "14620 12.565326\n",
      "18714 12.854472\n",
      "27666 12.491754\n",
      "30900 12.198825\n",
      "33188 12.084386\n",
      "34449 12.25609\n",
      "36816 12.120924\n",
      "38182 12.6434765\n",
      "39963 12.417434\n",
      "42778 12.847373\n",
      "49047 12.562673\n",
      "49510 13.069158\n",
      "52024 13.251654\n",
      "61270 12.918867\n",
      "65502 13.245026\n",
      "66689 12.22028\n",
      "67526 12.531997\n",
      "74833 12.218332\n",
      "77876 12.333263\n",
      "79654 12.979491\n",
      "81595 12.526895\n",
      "82151 13.107184\n",
      "83200 12.0815525\n",
      "87235 12.148592\n",
      "87956 12.44906\n",
      "89615 12.710699\n",
      "90266 12.219522\n",
      "91655 12.354979\n",
      "97045 12.544898\n",
      "97408 12.267348\n",
      "98808 12.132684\n",
      "99966 12.814019\n"
     ]
    }
   ],
   "source": [
    "i = 0\n",
    "mhal_list = []\n",
    "mgal_list = []\n",
    "i_list = []\n",
    "#while mhal>10:\n",
    "for i in range(1,len(h)+1):\n",
    "    mhal = np.log10(np.sum(h[i].dm['mass']))\n",
    "    if h[i].properties['hostHalo']==0 and mhal>12:\n",
    "        mhal_list.append(mhal)\n",
    "        mgal_list.append(np.log10(np.sum(h[i].star['mass'])))\n",
    "        i_list.append(i)\n",
    "        print(i,mhal)\n",
    "    \n",
    "mhal_list = np.array(mhal_list)\n",
    "mgal_list = np.array(mgal_list)\n",
    "i_list = np.array(i_list)\n",
    "\n",
    "np.savetxt(\"/home/seoyoung/analysis/romulus25_group_candidates_z0.txt\",np.vstack((i_list, mhal_list, mgal_list)).T)"
   ]
  },
  {
   "cell_type": "code",
   "execution_count": 68,
   "metadata": {},
   "outputs": [],
   "source": [
    "group_data = np.loadtxt(\"/home/seoyoung/analysis/romulus25_group_candidates_z0.txt\", dtype = [('id_hal', float), ('mhal', float),('mgal',float)])"
   ]
  },
  {
   "cell_type": "code",
   "execution_count": 73,
   "metadata": {},
   "outputs": [
    {
     "data": {
      "text/plain": [
       "array([1.21829128, 1.3049469 , 1.41674232, 1.24325085, 1.26998806,\n",
       "       1.21656895, 1.12812328, 1.32151031, 1.36503029, 1.23453903,\n",
       "       1.42019176, 1.30565929, 1.22905636, 1.25059605, 1.51668549,\n",
       "       1.42763519, 1.28311157, 1.47383404, 1.3218174 , 1.16710186,\n",
       "       1.21188736, 1.1410265 , 1.37724209, 1.37861633, 1.28192711,\n",
       "       1.27727699, 1.26482773, 1.42639446, 1.51944923, 1.36200047,\n",
       "       1.19179821, 1.30999184, 1.26466751, 1.41393948, 1.3530407 ])"
      ]
     },
     "execution_count": 73,
     "metadata": {},
     "output_type": "execute_result"
    }
   ],
   "source": [
    "group_data['mhal']-group_data['mgal']"
   ]
  },
  {
   "cell_type": "code",
   "execution_count": 90,
   "metadata": {},
   "outputs": [
    {
     "data": {
      "text/plain": [
       "SimArray([1.4755942, 1.475594 , 1.475594 , ..., 1.4755942, 1.4755942,\n",
       "          1.4755942], dtype=float32, 'h')"
      ]
     },
     "execution_count": 90,
     "metadata": {},
     "output_type": "execute_result"
    }
   ],
   "source": [
    "h0.star['mass'].in_units('Msol')/h0.star['mass'].in_units('Msol h**-1')\n"
   ]
  },
  {
   "cell_type": "code",
   "execution_count": 92,
   "metadata": {},
   "outputs": [
    {
     "data": {
      "text/plain": [
       "0.16896690354321325"
      ]
     },
     "execution_count": 92,
     "metadata": {},
     "output_type": "execute_result"
    }
   ],
   "source": [
    "-np.log10(s.properties['h'])"
   ]
  },
  {
   "cell_type": "code",
   "execution_count": 96,
   "metadata": {},
   "outputs": [
    {
     "data": {
      "image/png": "[encoded data removed]",
      "text/plain": [
       "<Figure size 432x288 with 1 Axes>"
      ]
     },
     "metadata": {
      "needs_background": "light"
     },
     "output_type": "display_data"
    }
   ],
   "source": [
    "#plt.scatter(mhal_list,mgal_list-mhal_list, s = 5, c = 'r')\n",
    "plt.scatter(group_data['mhal']-np.log10(s.properties['h']),np.log10(0.6)-group_data['mhal']+np.log10(s.properties['h'])+group_data['mgal'], s = 5, c = 'r')\n",
    "\n",
    "plt.xlim(10,13.5)\n",
    "plt.ylim(-4,-0.5)\n",
    "\n",
    "plt.xlabel(\"Log M$_{halo}$\")\n",
    "plt.ylabel(\"Log M$_{*}$/M$_{halo}$\")\n",
    "plt.gca().patch.set_alpha(0)\n"
   ]
  },
  {
   "cell_type": "code",
   "execution_count": 23,
   "metadata": {},
   "outputs": [
    {
     "data": {
      "text/plain": [
       "27"
      ]
     },
     "execution_count": 23,
     "metadata": {},
     "output_type": "execute_result"
    }
   ],
   "source": [
    "np.sum(mvir_list>12)"
   ]
  },
  {
   "cell_type": "code",
   "execution_count": null,
   "metadata": {},
   "outputs": [],
   "source": []
  }
 ],
 "metadata": {
  "kernelspec": {
   "display_name": "Python 3",
   "language": "python",
   "name": "python3"
  },
  "language_info": {
   "codemirror_mode": {
    "name": "ipython",
    "version": 3
   },
   "file_extension": ".py",
   "mimetype": "text/x-python",
   "name": "python",
   "nbconvert_exporter": "python",
   "pygments_lexer": "ipython3",
   "version": "3.7.0"
  }
 },
 "nbformat": 4,
 "nbformat_minor": 2
}
